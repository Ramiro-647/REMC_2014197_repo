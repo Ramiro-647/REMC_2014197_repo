{
 "cells": [
  {
   "cell_type": "markdown",
   "id": "4ff8a54f",
   "metadata": {},
   "source": [
    "\n",
    "# Árbol de Decisión - Diagnóstico de Cáncer de Mama\n",
    "\n",
    "Este notebook entrena un modelo de árbol de decisión utilizando datos de diagnóstico de cáncer de mama.\n",
    "Se realiza el preprocesamiento de los datos, entrenamiento, evaluación del modelo y visualización del árbol.\n"
   ]
  },
  {
   "cell_type": "code",
   "execution_count": null,
   "id": "7e8fed3f",
   "metadata": {},
   "outputs": [],
   "source": [
    "\n",
    "import pandas as pd\n",
    "from sklearn.model_selection import train_test_split\n",
    "from sklearn.tree import DecisionTreeClassifier, plot_tree\n",
    "from sklearn.metrics import confusion_matrix, accuracy_score, classification_report\n",
    "import matplotlib.pyplot as plt\n"
   ]
  },
  {
   "cell_type": "code",
   "execution_count": null,
   "id": "474810a1",
   "metadata": {},
   "outputs": [],
   "source": [
    "\n",
    "# Cargar datos\n",
    "df = pd.read_csv(\"data.csv\")\n",
    "df.head()\n"
   ]
  },
  {
   "cell_type": "code",
   "execution_count": null,
   "id": "eff9d802",
   "metadata": {},
   "outputs": [],
   "source": [
    "\n",
    "# Eliminar columnas innecesarias\n",
    "df = df.drop(columns=[\"id\", \"Unnamed: 32\"])\n",
    "\n",
    "# Convertir diagnóstico a binario\n",
    "df[\"diagnosis\"] = df[\"diagnosis\"].map({'M': 1, 'B': 0})\n",
    "\n",
    "# Separar características y etiquetas\n",
    "X = df.drop(columns=[\"diagnosis\"])\n",
    "y = df[\"diagnosis\"]\n"
   ]
  },
  {
   "cell_type": "code",
   "execution_count": null,
   "id": "91ff4a84",
   "metadata": {},
   "outputs": [],
   "source": [
    "\n",
    "# Dividir en entrenamiento y prueba (80/20)\n",
    "X_train, X_test, y_train, y_test = train_test_split(X, y, test_size=0.2, random_state=42)\n"
   ]
  },
  {
   "cell_type": "code",
   "execution_count": null,
   "id": "04869f59",
   "metadata": {},
   "outputs": [],
   "source": [
    "\n",
    "# Crear y entrenar el modelo\n",
    "clf = DecisionTreeClassifier(random_state=42)\n",
    "clf.fit(X_train, y_train)\n"
   ]
  },
  {
   "cell_type": "code",
   "execution_count": null,
   "id": "01b88b8b",
   "metadata": {},
   "outputs": [],
   "source": [
    "\n",
    "# Realizar 3 predicciones de ejemplo\n",
    "sample_predictions = clf.predict(X_test[:3])\n",
    "['Maligno' if p == 1 else 'Benigno' for p in sample_predictions]\n"
   ]
  },
  {
   "cell_type": "code",
   "execution_count": null,
   "id": "7bbabfa2",
   "metadata": {},
   "outputs": [],
   "source": [
    "\n",
    "# Evaluación completa\n",
    "y_pred = clf.predict(X_test)\n",
    "print(\"Matriz de Confusión:\\n\", confusion_matrix(y_test, y_pred))\n",
    "print(\"\\nPrecisión:\", accuracy_score(y_test, y_pred))\n",
    "print(\"\\nReporte de Clasificación:\\n\", classification_report(y_test, y_pred))\n"
   ]
  },
  {
   "cell_type": "code",
   "execution_count": null,
   "id": "bbe2950c",
   "metadata": {},
   "outputs": [],
   "source": [
    "\n",
    "# Visualizar árbol de decisión\n",
    "plt.figure(figsize=(20, 10), dpi=300)\n",
    "plot_tree(clf, feature_names=X.columns, class_names=[\"Benigno\", \"Maligno\"], filled=True)\n",
    "plt.title(\"Árbol de Decisión - Diagnóstico de Cáncer de Mama\")\n",
    "plt.tight_layout()\n",
    "plt.show()\n"
   ]
  }
 ],
 "metadata": {},
 "nbformat": 4,
 "nbformat_minor": 5
}
