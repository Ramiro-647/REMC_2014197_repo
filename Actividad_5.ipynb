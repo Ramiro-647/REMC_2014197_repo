{
  "nbformat": 4,
  "nbformat_minor": 0,
  "metadata": {
    "colab": {
      "provenance": [],
      "toc_visible": true,
      "authorship_tag": "ABX9TyMqbDsKZJHz4719A5UCh9od",
      "include_colab_link": true
    },
    "kernelspec": {
      "name": "python3",
      "display_name": "Python 3"
    },
    "language_info": {
      "name": "python"
    }
  },
  "cells": [
    {
      "cell_type": "markdown",
      "metadata": {
        "id": "view-in-github",
        "colab_type": "text"
      },
      "source": [
        "<a href=\"https://colab.research.google.com/github/Ramiro-647/REMC_2014197_repo/blob/main/Actividad_5.ipynb\" target=\"_parent\"><img src=\"https://colab.research.google.com/assets/colab-badge.svg\" alt=\"Open In Colab\"/></a>"
      ]
    },
    {
      "cell_type": "markdown",
      "source": [
        "# Trabajo de inteligencia artificial y redes neuronales\n",
        "# Ramiro Emiliano Martinez De La Cruz 2014197\n",
        ""
      ],
      "metadata": {
        "id": "rroczIHKdeUb"
      }
    },
    {
      "cell_type": "markdown",
      "source": [
        "# Cargar el dataset con pandas"
      ],
      "metadata": {
        "id": "A9qRvAZ7NLcn"
      }
    },
    {
      "cell_type": "code",
      "execution_count": null,
      "metadata": {
        "id": "IbbU8mAhIVBh"
      },
      "outputs": [],
      "source": []
    }
  ]
}